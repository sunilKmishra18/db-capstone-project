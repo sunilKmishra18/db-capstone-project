{
 "cells": [
  {
   "cell_type": "code",
   "execution_count": 13,
   "metadata": {},
   "outputs": [
    {
     "name": "stdout",
     "output_type": "stream",
     "text": [
      "('Tables_in_littlelemondm',)\n",
      "('addbookingrecord',)\n",
      "('bookings',)\n",
      "('customerdetails',)\n",
      "('menu',)\n",
      "('ordercancelrecord',)\n",
      "('orderdeliverystatus',)\n",
      "('orders',)\n",
      "('ordersview',)\n",
      "('staffinformation',)\n",
      "('CustomerName', 'City', 'Country', 'PostalCode', 'CountryCode')\n",
      "('Laney Fadden', 'Daruoyan', 'Japan', '9930031', 'CN')\n",
      "('Margarita Mancktelow', 'Tobruk', 'Japan', '33619', 'NG')\n",
      "('Merrill Baudon', 'Susaki', 'Japan', '9870352', 'JP')\n",
      "('Mart Malsher', 'Quince Mil', 'Japan', '692769', 'RU')\n",
      "('Laney Fadden', 'Daruoyan', 'Japan', '9930031', 'CN')\n",
      "('Audie Willcocks', 'Ongjin', 'Japan', '3810760', 'PT')\n",
      "('Ashil Brogini', 'Rafael Hernandez Ochoa', 'Japan', '6496326', 'JP')\n",
      "('Giacopo Bramich', 'Ongjin', 'Japan', '216282', 'KP')\n",
      "('Lia Bonar', 'Quince Mil', 'Japan', '663246', 'PE')\n",
      "('Angel Veschambre', 'Rafael Hernandez Ochoa', 'Japan', '93995', 'MX')\n",
      "('Sheilah Maestro', 'Daruoyan', 'Japan', '641360', 'RU')\n",
      "('Tasia Fautly', 'Tobruk', 'Japan', '35101', 'LY')\n"
     ]
    }
   ],
   "source": [
    "import mysql.connector as connector\n",
    "from mysql.connector import errorcode\n",
    "#Task One\n",
    "try:\n",
    "    connection = connector.connect(user = \"user1\", password = \"P@ssw0rdG00g13\",database=\"littlelemondm\")\n",
    "except connector.Error as err:\n",
    "    if err.errno==errorcode.ER_ACCESS_DENIED_ERROR: \n",
    "        print(\"connection user or password are incorrect\")\n",
    "    elif err.errno==errorcode.ER_BAD_DB_ERROR:\n",
    "        print(\"database does not exist\")\n",
    "    else:  \n",
    "        print(err)\n",
    "#Task Two\n",
    "cursor=connection.cursor()\n",
    "cursor.execute(\"use littlelemondm\")\n",
    "show_tables_query = \"SHOW tables\"\n",
    "cursor.execute(show_tables_query)\n",
    "table_results = cursor.fetchall()\n",
    "print(cursor.column_names)\n",
    "for x in table_results:\n",
    "    print(x)\n",
    "#Task Three\n",
    "create_join=''' select CustomerName, City, Country, PostalCode, CountryCode\n",
    "From CustomerDetails\n",
    "inner join Bookings on Bookings.CustomerID = CustomerDetails.CustomerID\n",
    "inner join Orders on Orders.BookingID = Bookings.BookingID\n",
    "where Orders.Cost > 60;'''\n",
    "cursor.execute(create_join)\n",
    "results=cursor.fetchall()\n",
    "print(cursor.column_names)\n",
    "for x in results:\n",
    "    print(x)"
   ]
  }
 ],
 "metadata": {
  "kernelspec": {
   "display_name": "Python 3",
   "language": "python",
   "name": "python3"
  },
  "language_info": {
   "codemirror_mode": {
    "name": "ipython",
    "version": 3
   },
   "file_extension": ".py",
   "mimetype": "text/x-python",
   "name": "python",
   "nbconvert_exporter": "python",
   "pygments_lexer": "ipython3",
   "version": "3.12.0"
  }
 },
 "nbformat": 4,
 "nbformat_minor": 2
}
